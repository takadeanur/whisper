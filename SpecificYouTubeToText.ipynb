{
  "nbformat": 4,
  "nbformat_minor": 0,
  "metadata": {
    "colab": {
      "provenance": [],
      "gpuType": "T4",
      "authorship_tag": "ABX9TyMglG2FoHAv2P4VBcIv+my3",
      "include_colab_link": true
    },
    "kernelspec": {
      "name": "python3",
      "display_name": "Python 3"
    },
    "language_info": {
      "name": "python"
    },
    "accelerator": "GPU"
  },
  "cells": [
    {
      "cell_type": "markdown",
      "metadata": {
        "id": "view-in-github",
        "colab_type": "text"
      },
      "source": [
        "<a href=\"https://colab.research.google.com/github/takadeanur/whisper/blob/main/SpecificYouTubeToText.ipynb\" target=\"_parent\"><img src=\"https://colab.research.google.com/assets/colab-badge.svg\" alt=\"Open In Colab\"/></a>"
      ]
    },
    {
      "cell_type": "code",
      "source": [
        "from google.colab import drive\n",
        "drive.mount('/content/drive')"
      ],
      "metadata": {
        "id": "oo1UUNtDSHpn"
      },
      "execution_count": null,
      "outputs": []
    },
    {
      "cell_type": "code",
      "source": [
        "import os\n",
        "\n",
        "directory = '/content/drive/MyDrive'\n",
        "files = os.listdir(directory)\n",
        "print(directory)\n",
        "print(files)\n",
        "\n",
        "for i in files:\n",
        "    try:\n",
        "        os.remove(directory+'/'+i)\n",
        "    except IsADirectoryError:\n",
        "        pass"
      ],
      "metadata": {
        "id": "g711AuyXSK7u"
      },
      "execution_count": null,
      "outputs": []
    },
    {
      "cell_type": "code",
      "execution_count": null,
      "metadata": {
        "id": "ToGDCIYxRYfS"
      },
      "outputs": [],
      "source": [
        "pip install pytubefix"
      ]
    },
    {
      "cell_type": "code",
      "source": [
        "pip install moviepy"
      ],
      "metadata": {
        "id": "-Bo5xqUyRbmt"
      },
      "execution_count": null,
      "outputs": []
    },
    {
      "cell_type": "code",
      "source": [
        "pip install -U openai-whisper"
      ],
      "metadata": {
        "id": "BuSHGFOIRc7J"
      },
      "execution_count": null,
      "outputs": []
    },
    {
      "cell_type": "code",
      "source": [
        "from pytubefix import YouTube\n",
        "from moviepy.editor import *\n",
        "import whisper\n",
        "import os\n",
        "\n",
        "# YouTube動画をロード\n",
        "yt = YouTube(\"https://www.youtube.com/watch?v=uUKCcUhROUg\")\n",
        "\n",
        "# 最高品質のオーディオストリームを選択\n",
        "audio_stream = yt.streams.filter(only_audio=True).first()\n",
        "\n",
        "# オーディオを一時ファイルとしてダウンロード\n",
        "temp_file = audio_stream.download()\n",
        "\n",
        "# 実行ファイルパス\n",
        "script_path = os.path.abspath(__file__)\n",
        "script_folder = os.path.dirname(script_path)\n",
        "\n",
        "# 出力ファイル名\n",
        "audiofile = \"test.mp3\"\n",
        "\n",
        "# MoviePyを使用してオーディオをMP3に変換\n",
        "audio_clip = AudioFileClip(temp_file)\n",
        "audio_clip.write_audiofile(script_folder + \"/\" + audiofile, codec=\"libmp3lame\")\n",
        "\n",
        "# 一時ファイルを削除\n",
        "os.remove(temp_file)\n",
        "\n",
        "# 出力ファイル名（適宜変更する）\n",
        "outputfile = \"output.txt\"\n",
        "\n",
        "# 処理\n",
        "model = whisper.load_model(\"medium\", device=\"cuda\")\n",
        "result = model.transcribe(\"/content/drive/MyDrive/\" + audiofile, language=\"ja\", verbose=True)\n",
        "\n",
        "# セグメントごとに改行してテキストを取得\n",
        "segments = result[\"segments\"]\n",
        "transcript = \"\\n\".join(segment[\"text\"] for segment in segments)\n",
        "\n",
        "# txtへ書き出し\n",
        "with open(\"/content/drive/MyDrive/\" + outputfile, \"w\", encoding='utf-8_sig') as f:\n",
        "    f.write(transcript)"
      ],
      "metadata": {
        "id": "Jqjh4YAfRd4z"
      },
      "execution_count": null,
      "outputs": []
    }
  ]
}