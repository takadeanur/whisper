{
  "nbformat": 4,
  "nbformat_minor": 0,
  "metadata": {
    "colab": {
      "provenance": [],
      "authorship_tag": "ABX9TyPUeli4Hl4OGAKB12KERRpO",
      "include_colab_link": true
    },
    "kernelspec": {
      "name": "python3",
      "display_name": "Python 3"
    },
    "language_info": {
      "name": "python"
    }
  },
  "cells": [
    {
      "cell_type": "markdown",
      "metadata": {
        "id": "view-in-github",
        "colab_type": "text"
      },
      "source": [
        "<a href=\"https://colab.research.google.com/github/takadeanur/whisper/blob/main/YouTubeToText.ipynb\" target=\"_parent\"><img src=\"https://colab.research.google.com/assets/colab-badge.svg\" alt=\"Open In Colab\"/></a>"
      ]
    },
    {
      "cell_type": "code",
      "execution_count": null,
      "metadata": {
        "id": "a2r9bpoChity"
      },
      "outputs": [],
      "source": [
        "from google.colab import drive\n",
        "drive.mount('/content/drive')"
      ]
    },
    {
      "cell_type": "code",
      "source": [
        "pip install -U openai-whisper"
      ],
      "metadata": {
        "id": "E5k7xubLhqSO"
      },
      "execution_count": null,
      "outputs": []
    },
    {
      "cell_type": "code",
      "source": [
        "pip install pytubefix"
      ],
      "metadata": {
        "id": "1oxQC-rzkDMu"
      },
      "execution_count": null,
      "outputs": []
    },
    {
      "cell_type": "code",
      "source": [
        "pip install moviepy"
      ],
      "metadata": {
        "id": "JgowbU_BkJsi"
      },
      "execution_count": null,
      "outputs": []
    },
    {
      "cell_type": "code",
      "source": [
        "pip install google-api-python-client"
      ],
      "metadata": {
        "id": "ws3So8itkMVa"
      },
      "execution_count": null,
      "outputs": []
    },
    {
      "cell_type": "code",
      "source": [
        "import html\n",
        "import os\n",
        "import datetime\n",
        "import csv\n",
        "from googleapiclient.discovery import build\n",
        "from dateutil.relativedelta import relativedelta\n",
        "from pytubefix import YouTube\n",
        "from moviepy.editor import *\n",
        "import whisper\n",
        "\n",
        "#-------↓パラメータ入力↓-------\n",
        "\n",
        "developerKey = \"\"\n",
        "channel_id = \"UCmuo6-sGvNxqT2NF7SWKClg\"\n",
        "\n",
        "#-------↑パラメータ入力↑-------\n",
        "\n",
        "youtube = build(\"youtube\", \"v3\", developerKey=developerKey)\n",
        "\n",
        "videos = [] #videoURLを格納する配列\n",
        "dt_now = datetime.datetime.now().strftime('%Y%m%d_%H%M%S')\n",
        "\n",
        "def youtube_search(pagetoken, st, ed):\n",
        "\n",
        "    search_response  = youtube.search().list(\n",
        "        part = \"snippet\",\n",
        "        channelId = channel_id,\n",
        "        maxResults = 50,\n",
        "        type = \"video\",\n",
        "        publishedAfter = st, #'2013-01-01T00:00:00Z',\n",
        "        publishedBefore = ed, #'2014-01-01T00:00:00Z',\n",
        "        order = \"date\",\n",
        "        pageToken = pagetoken\n",
        "    ).execute()\n",
        "\n",
        "    print(search_response[\"pageInfo\"][\"totalResults\"])\n",
        "    for search_result in search_response.get(\"items\", []):\n",
        "\n",
        "        if search_result[\"id\"][\"kind\"] == \"youtube#video\":\n",
        "            publishedAt = search_result[\"snippet\"][\"publishedAt\"]\n",
        "            title = html.unescape(search_result[\"snippet\"][\"title\"])\n",
        "            id = search_result[\"id\"][\"videoId\"]\n",
        "            url = 'https://www.youtube.com/watch?v=%s' % search_result[\"id\"][\"videoId\"]\n",
        "\n",
        "            videos.append([publishedAt, title, id, url])\n",
        "            youtube_to_text(id, url)\n",
        "    try:\n",
        "        nextPagetoken = search_response[\"nextPageToken\"]\n",
        "        youtube_search(nextPagetoken, st, ed)\n",
        "    except:\n",
        "        return\n",
        "\n",
        "def youtube_to_text(id, url):\n",
        "\n",
        "    # YouTube動画をロード\n",
        "    yt = YouTube(url)\n",
        "\n",
        "    # 最高品質のオーディオストリームを選択\n",
        "    audio_stream = yt.streams.filter(only_audio=True).first()\n",
        "\n",
        "    # オーディオを一時ファイルとしてダウンロード\n",
        "    temp_file = audio_stream.download()\n",
        "\n",
        "    # 出力ファイル名\n",
        "    audiofile = id + \".mp3\"\n",
        "\n",
        "    # MoviePyを使用してオーディオをMP3に変換\n",
        "    audio_clip = AudioFileClip(temp_file)\n",
        "    audio_clip.write_audiofile(\"/content/drive/MyDrive/\" + audiofile, codec=\"libmp3lame\")\n",
        "\n",
        "    # 一時ファイルを削除\n",
        "    os.remove(temp_file)\n",
        "\n",
        "    # 出力ファイル名（適宜変更する）\n",
        "    outputfile = id + \".txt\"\n",
        "\n",
        "    # 処理\n",
        "    model = whisper.load_model(\"small\", device=\"cpu\")\n",
        "    # model = whisper.load_model(\"medium\", device=\"cuda\")\n",
        "    result = model.transcribe(\"/content/drive/MyDrive/\" + audiofile, language=\"ja\", verbose=True)\n",
        "\n",
        "    # セグメントごとに改行してテキストを取得\n",
        "    segments = result[\"segments\"]\n",
        "    transcript = \"\\n\".join(segment[\"text\"] for segment in segments)\n",
        "\n",
        "    # txtへ書き出し\n",
        "    with open(\"/content/drive/MyDrive/\" + outputfile, \"w\", encoding='utf-8_sig') as f:\n",
        "        f.write(transcript)\n",
        "\n",
        "# 2023年1月1日から（ここを適宜変更）\n",
        "dt = datetime.datetime(2023, 1, 1, 0, 0)\n",
        "#\n",
        "for i in range(1, 21):\n",
        "    youtube_search('', dt.isoformat()+'Z', (dt + relativedelta(months=1)).isoformat()+'Z')\n",
        "    dt = dt + relativedelta(months=1)"
      ],
      "metadata": {
        "id": "Yb-m2ytfkUdK"
      },
      "execution_count": null,
      "outputs": []
    },
    {
      "cell_type": "code",
      "source": [
        "# ダウンロードしたいフォルダを zip 圧縮する\n",
        "!zip -r /content/drive/MyDrive/download.zip /content/drive/MyDrive"
      ],
      "metadata": {
        "id": "mq3GMZYpAXcW"
      },
      "execution_count": null,
      "outputs": []
    },
    {
      "cell_type": "code",
      "source": [
        "# 圧縮した zip ファイルをダウンロードする\n",
        "from google.colab import files\n",
        "files.download(\"/content/drive/MyDrive/download.zip\")"
      ],
      "metadata": {
        "id": "Wx-aR5RmBaSd"
      },
      "execution_count": null,
      "outputs": []
    }
  ]
}