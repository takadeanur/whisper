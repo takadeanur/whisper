{
  "nbformat": 4,
  "nbformat_minor": 0,
  "metadata": {
    "colab": {
      "provenance": [],
      "gpuType": "T4",
      "authorship_tag": "ABX9TyMarIQecwxiNHkYNr4fhdvF",
      "include_colab_link": true
    },
    "kernelspec": {
      "name": "python3",
      "display_name": "Python 3"
    },
    "language_info": {
      "name": "python"
    },
    "accelerator": "GPU"
  },
  "cells": [
    {
      "cell_type": "markdown",
      "metadata": {
        "id": "view-in-github",
        "colab_type": "text"
      },
      "source": [
        "<a href=\"https://colab.research.google.com/github/takadeanur/whisper/blob/main/WhisperOnGoogleColab.ipynb\" target=\"_parent\"><img src=\"https://colab.research.google.com/assets/colab-badge.svg\" alt=\"Open In Colab\"/></a>"
      ]
    },
    {
      "cell_type": "code",
      "source": [
        "from google.colab import drive\n",
        "drive.mount('/content/drive')"
      ],
      "metadata": {
        "id": "EiQxODss9OC1"
      },
      "execution_count": null,
      "outputs": []
    },
    {
      "cell_type": "code",
      "execution_count": null,
      "metadata": {
        "id": "hEneX-1-fItr"
      },
      "outputs": [],
      "source": [
        "pip install -U openai-whisper"
      ]
    },
    {
      "cell_type": "code",
      "source": [
        "import whisper\n",
        "import os\n",
        "\n",
        "# 入力ファイル名（適宜変更する）\n",
        "inputfile = \"test.mp3\"\n",
        "\n",
        "# 出力ファイル名（適宜変更する）\n",
        "outputfile = \"output.txt\"\n",
        "\n",
        "# 処理\n",
        "model = whisper.load_model(\"large\", device=\"cuda\")\n",
        "#result = model.transcribe(script_folder + \"/\" + inputfile, language=\"ja\", verbose=True)\n",
        "result = model.transcribe(\"/content/drive/MyDrive/test.mp3\", language=\"ja\", verbose=True)\n",
        "\n",
        "# セグメントごとに改行してテキストを取得\n",
        "segments = result[\"segments\"]\n",
        "transcript = \"\\n\".join(segment[\"text\"] for segment in segments)\n",
        "\n",
        "# txtへ書き出し\n",
        "with open(\"/content/drive/MyDrive/output.txt\", \"w\", encoding='utf-8_sig') as f:\n",
        "    f.write(transcript)"
      ],
      "metadata": {
        "id": "1whZSYSIhzZl"
      },
      "execution_count": null,
      "outputs": []
    }
  ]
}